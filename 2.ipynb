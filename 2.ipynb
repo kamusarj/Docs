{
 "cells": [
  {
   "cell_type": "code",
   "id": "initial_id",
   "metadata": {
    "collapsed": true,
    "ExecuteTime": {
     "end_time": "2025-03-30T21:22:59.398547Z",
     "start_time": "2025-03-30T21:22:59.089481Z"
    }
   },
   "source": "import cv2",
   "outputs": [],
   "execution_count": 1
  },
  {
   "metadata": {
    "ExecuteTime": {
     "end_time": "2025-03-30T21:23:15.175677Z",
     "start_time": "2025-03-30T21:23:15.169490Z"
    }
   },
   "cell_type": "code",
   "source": "print(\"dir ma may\")",
   "id": "eddf34f1ce990e84",
   "outputs": [
    {
     "name": "stdout",
     "output_type": "stream",
     "text": [
      "dir ma may\n"
     ]
    }
   ],
   "execution_count": 2
  }
 ],
 "metadata": {
  "kernelspec": {
   "display_name": "Python 3",
   "language": "python",
   "name": "python3"
  },
  "language_info": {
   "codemirror_mode": {
    "name": "ipython",
    "version": 2
   },
   "file_extension": ".py",
   "mimetype": "text/x-python",
   "name": "python",
   "nbconvert_exporter": "python",
   "pygments_lexer": "ipython2",
   "version": "2.7.6"
  }
 },
 "nbformat": 4,
 "nbformat_minor": 5
}
